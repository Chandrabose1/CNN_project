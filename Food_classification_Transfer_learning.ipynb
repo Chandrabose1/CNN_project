{
 "cells": [
  {
   "cell_type": "markdown",
   "metadata": {
    "id": "_ZkzfMlJBiT0"
   },
   "source": [
    "## Importing Basic libraries"
   ]
  },
  {
   "cell_type": "code",
   "execution_count": 1,
   "metadata": {
    "id": "sdBS3p9gBmQL"
   },
   "outputs": [],
   "source": [
    "import os\n",
    "import zipfile\n",
    "import pathlib\n",
    "\n",
    "import numpy as np\n",
    "import matplotlib.pyplot as plt\n",
    "import matplotlib.image as mpimg"
   ]
  },
  {
   "cell_type": "markdown",
   "metadata": {
    "id": "gENlldEV_-jB"
   },
   "source": [
    "## Importing the Data"
   ]
  },
  {
   "cell_type": "code",
   "execution_count": 3,
   "metadata": {
    "id": "CAgGE68uBqBg"
   },
   "outputs": [],
   "source": [
    "zip=zipfile.ZipFile(\"/content/101_food_classes_10_percent.zip\")\n",
    "zip.extractall()\n",
    "zip.close()"
   ]
  },
  {
   "cell_type": "markdown",
   "metadata": {
    "id": "3s6lpEzbBwnY"
   },
   "source": [
    "## Exploring the data"
   ]
  },
  {
   "cell_type": "code",
   "execution_count": 4,
   "metadata": {
    "colab": {
     "base_uri": "https://localhost:8080/"
    },
    "id": "XZlfLSAqCXZ0",
    "outputId": "81c2d11b-dd05-44e1-b9db-cbc4f2f46676"
   },
   "outputs": [
    {
     "name": "stdout",
     "output_type": "stream",
     "text": [
      "0 in /content/101_food_classes_10_percent\n",
      "0 in /content/101_food_classes_10_percent/train\n",
      "75 in /content/101_food_classes_10_percent/train/spring_rolls\n",
      "75 in /content/101_food_classes_10_percent/train/dumplings\n",
      "75 in /content/101_food_classes_10_percent/train/falafel\n",
      "75 in /content/101_food_classes_10_percent/train/hot_and_sour_soup\n",
      "75 in /content/101_food_classes_10_percent/train/crab_cakes\n",
      "75 in /content/101_food_classes_10_percent/train/red_velvet_cake\n",
      "75 in /content/101_food_classes_10_percent/train/oysters\n",
      "75 in /content/101_food_classes_10_percent/train/cannoli\n",
      "75 in /content/101_food_classes_10_percent/train/strawberry_shortcake\n",
      "75 in /content/101_food_classes_10_percent/train/apple_pie\n",
      "75 in /content/101_food_classes_10_percent/train/samosa\n",
      "75 in /content/101_food_classes_10_percent/train/greek_salad\n",
      "75 in /content/101_food_classes_10_percent/train/filet_mignon\n",
      "75 in /content/101_food_classes_10_percent/train/tiramisu\n",
      "75 in /content/101_food_classes_10_percent/train/hamburger\n",
      "75 in /content/101_food_classes_10_percent/train/scallops\n",
      "75 in /content/101_food_classes_10_percent/train/chicken_curry\n",
      "75 in /content/101_food_classes_10_percent/train/waffles\n",
      "75 in /content/101_food_classes_10_percent/train/garlic_bread\n",
      "75 in /content/101_food_classes_10_percent/train/paella\n",
      "75 in /content/101_food_classes_10_percent/train/churros\n",
      "75 in /content/101_food_classes_10_percent/train/pulled_pork_sandwich\n",
      "75 in /content/101_food_classes_10_percent/train/french_onion_soup\n",
      "75 in /content/101_food_classes_10_percent/train/cheesecake\n",
      "75 in /content/101_food_classes_10_percent/train/nachos\n",
      "75 in /content/101_food_classes_10_percent/train/club_sandwich\n",
      "75 in /content/101_food_classes_10_percent/train/bruschetta\n",
      "75 in /content/101_food_classes_10_percent/train/huevos_rancheros\n",
      "75 in /content/101_food_classes_10_percent/train/grilled_salmon\n",
      "75 in /content/101_food_classes_10_percent/train/edamame\n",
      "75 in /content/101_food_classes_10_percent/train/spaghetti_carbonara\n",
      "75 in /content/101_food_classes_10_percent/train/breakfast_burrito\n",
      "75 in /content/101_food_classes_10_percent/train/ramen\n",
      "75 in /content/101_food_classes_10_percent/train/gyoza\n",
      "75 in /content/101_food_classes_10_percent/train/fried_rice\n",
      "75 in /content/101_food_classes_10_percent/train/spaghetti_bolognese\n",
      "75 in /content/101_food_classes_10_percent/train/chocolate_mousse\n",
      "75 in /content/101_food_classes_10_percent/train/pizza\n",
      "75 in /content/101_food_classes_10_percent/train/hummus\n",
      "75 in /content/101_food_classes_10_percent/train/baby_back_ribs\n",
      "75 in /content/101_food_classes_10_percent/train/peking_duck\n",
      "75 in /content/101_food_classes_10_percent/train/macaroni_and_cheese\n",
      "75 in /content/101_food_classes_10_percent/train/seaweed_salad\n",
      "75 in /content/101_food_classes_10_percent/train/fish_and_chips\n",
      "75 in /content/101_food_classes_10_percent/train/clam_chowder\n",
      "75 in /content/101_food_classes_10_percent/train/sashimi\n",
      "75 in /content/101_food_classes_10_percent/train/pho\n",
      "75 in /content/101_food_classes_10_percent/train/prime_rib\n",
      "75 in /content/101_food_classes_10_percent/train/risotto\n",
      "75 in /content/101_food_classes_10_percent/train/beignets\n",
      "75 in /content/101_food_classes_10_percent/train/onion_rings\n",
      "75 in /content/101_food_classes_10_percent/train/ravioli\n",
      "75 in /content/101_food_classes_10_percent/train/omelette\n",
      "75 in /content/101_food_classes_10_percent/train/hot_dog\n",
      "75 in /content/101_food_classes_10_percent/train/chicken_quesadilla\n",
      "75 in /content/101_food_classes_10_percent/train/tuna_tartare\n",
      "75 in /content/101_food_classes_10_percent/train/macarons\n",
      "75 in /content/101_food_classes_10_percent/train/foie_gras\n",
      "75 in /content/101_food_classes_10_percent/train/escargots\n",
      "75 in /content/101_food_classes_10_percent/train/lobster_bisque\n",
      "75 in /content/101_food_classes_10_percent/train/ceviche\n",
      "75 in /content/101_food_classes_10_percent/train/croque_madame\n",
      "75 in /content/101_food_classes_10_percent/train/takoyaki\n",
      "75 in /content/101_food_classes_10_percent/train/fried_calamari\n",
      "75 in /content/101_food_classes_10_percent/train/pork_chop\n",
      "75 in /content/101_food_classes_10_percent/train/eggs_benedict\n",
      "75 in /content/101_food_classes_10_percent/train/tacos\n",
      "75 in /content/101_food_classes_10_percent/train/poutine\n",
      "75 in /content/101_food_classes_10_percent/train/lobster_roll_sandwich\n",
      "75 in /content/101_food_classes_10_percent/train/lasagna\n",
      "75 in /content/101_food_classes_10_percent/train/mussels\n",
      "75 in /content/101_food_classes_10_percent/train/chicken_wings\n",
      "75 in /content/101_food_classes_10_percent/train/frozen_yogurt\n",
      "75 in /content/101_food_classes_10_percent/train/donuts\n",
      "75 in /content/101_food_classes_10_percent/train/creme_brulee\n",
      "75 in /content/101_food_classes_10_percent/train/cup_cakes\n",
      "75 in /content/101_food_classes_10_percent/train/french_fries\n",
      "75 in /content/101_food_classes_10_percent/train/grilled_cheese_sandwich\n",
      "75 in /content/101_food_classes_10_percent/train/beet_salad\n",
      "75 in /content/101_food_classes_10_percent/train/beef_carpaccio\n",
      "75 in /content/101_food_classes_10_percent/train/guacamole\n",
      "75 in /content/101_food_classes_10_percent/train/bread_pudding\n",
      "75 in /content/101_food_classes_10_percent/train/caprese_salad\n",
      "75 in /content/101_food_classes_10_percent/train/ice_cream\n",
      "75 in /content/101_food_classes_10_percent/train/caesar_salad\n",
      "75 in /content/101_food_classes_10_percent/train/panna_cotta\n",
      "75 in /content/101_food_classes_10_percent/train/french_toast\n",
      "75 in /content/101_food_classes_10_percent/train/deviled_eggs\n",
      "75 in /content/101_food_classes_10_percent/train/beef_tartare\n",
      "75 in /content/101_food_classes_10_percent/train/miso_soup\n",
      "75 in /content/101_food_classes_10_percent/train/gnocchi\n",
      "75 in /content/101_food_classes_10_percent/train/baklava\n",
      "75 in /content/101_food_classes_10_percent/train/chocolate_cake\n",
      "75 in /content/101_food_classes_10_percent/train/sushi\n",
      "75 in /content/101_food_classes_10_percent/train/steak\n",
      "75 in /content/101_food_classes_10_percent/train/pancakes\n",
      "75 in /content/101_food_classes_10_percent/train/bibimbap\n",
      "75 in /content/101_food_classes_10_percent/train/pad_thai\n",
      "75 in /content/101_food_classes_10_percent/train/carrot_cake\n",
      "75 in /content/101_food_classes_10_percent/train/cheese_plate\n",
      "75 in /content/101_food_classes_10_percent/train/shrimp_and_grits\n",
      "0 in /content/101_food_classes_10_percent/test\n",
      "250 in /content/101_food_classes_10_percent/test/spring_rolls\n",
      "250 in /content/101_food_classes_10_percent/test/dumplings\n",
      "250 in /content/101_food_classes_10_percent/test/falafel\n",
      "250 in /content/101_food_classes_10_percent/test/hot_and_sour_soup\n",
      "250 in /content/101_food_classes_10_percent/test/crab_cakes\n",
      "250 in /content/101_food_classes_10_percent/test/red_velvet_cake\n",
      "250 in /content/101_food_classes_10_percent/test/oysters\n",
      "250 in /content/101_food_classes_10_percent/test/cannoli\n",
      "250 in /content/101_food_classes_10_percent/test/strawberry_shortcake\n",
      "250 in /content/101_food_classes_10_percent/test/apple_pie\n",
      "250 in /content/101_food_classes_10_percent/test/samosa\n",
      "250 in /content/101_food_classes_10_percent/test/greek_salad\n",
      "250 in /content/101_food_classes_10_percent/test/filet_mignon\n",
      "250 in /content/101_food_classes_10_percent/test/tiramisu\n",
      "250 in /content/101_food_classes_10_percent/test/hamburger\n",
      "250 in /content/101_food_classes_10_percent/test/scallops\n",
      "250 in /content/101_food_classes_10_percent/test/chicken_curry\n",
      "250 in /content/101_food_classes_10_percent/test/waffles\n",
      "250 in /content/101_food_classes_10_percent/test/garlic_bread\n",
      "250 in /content/101_food_classes_10_percent/test/paella\n",
      "250 in /content/101_food_classes_10_percent/test/churros\n",
      "250 in /content/101_food_classes_10_percent/test/pulled_pork_sandwich\n",
      "250 in /content/101_food_classes_10_percent/test/french_onion_soup\n",
      "250 in /content/101_food_classes_10_percent/test/cheesecake\n",
      "250 in /content/101_food_classes_10_percent/test/nachos\n",
      "250 in /content/101_food_classes_10_percent/test/club_sandwich\n",
      "250 in /content/101_food_classes_10_percent/test/bruschetta\n",
      "250 in /content/101_food_classes_10_percent/test/huevos_rancheros\n",
      "250 in /content/101_food_classes_10_percent/test/grilled_salmon\n",
      "250 in /content/101_food_classes_10_percent/test/edamame\n",
      "250 in /content/101_food_classes_10_percent/test/spaghetti_carbonara\n",
      "250 in /content/101_food_classes_10_percent/test/breakfast_burrito\n",
      "250 in /content/101_food_classes_10_percent/test/ramen\n",
      "250 in /content/101_food_classes_10_percent/test/gyoza\n",
      "250 in /content/101_food_classes_10_percent/test/fried_rice\n",
      "250 in /content/101_food_classes_10_percent/test/spaghetti_bolognese\n",
      "250 in /content/101_food_classes_10_percent/test/chocolate_mousse\n",
      "250 in /content/101_food_classes_10_percent/test/pizza\n",
      "250 in /content/101_food_classes_10_percent/test/hummus\n",
      "250 in /content/101_food_classes_10_percent/test/baby_back_ribs\n",
      "250 in /content/101_food_classes_10_percent/test/peking_duck\n",
      "250 in /content/101_food_classes_10_percent/test/macaroni_and_cheese\n",
      "250 in /content/101_food_classes_10_percent/test/seaweed_salad\n",
      "250 in /content/101_food_classes_10_percent/test/fish_and_chips\n",
      "250 in /content/101_food_classes_10_percent/test/clam_chowder\n",
      "250 in /content/101_food_classes_10_percent/test/sashimi\n",
      "250 in /content/101_food_classes_10_percent/test/pho\n",
      "250 in /content/101_food_classes_10_percent/test/prime_rib\n",
      "250 in /content/101_food_classes_10_percent/test/risotto\n",
      "250 in /content/101_food_classes_10_percent/test/beignets\n",
      "250 in /content/101_food_classes_10_percent/test/onion_rings\n",
      "250 in /content/101_food_classes_10_percent/test/ravioli\n",
      "250 in /content/101_food_classes_10_percent/test/omelette\n",
      "250 in /content/101_food_classes_10_percent/test/hot_dog\n",
      "250 in /content/101_food_classes_10_percent/test/chicken_quesadilla\n",
      "250 in /content/101_food_classes_10_percent/test/tuna_tartare\n",
      "250 in /content/101_food_classes_10_percent/test/macarons\n",
      "250 in /content/101_food_classes_10_percent/test/foie_gras\n",
      "250 in /content/101_food_classes_10_percent/test/escargots\n",
      "250 in /content/101_food_classes_10_percent/test/lobster_bisque\n",
      "250 in /content/101_food_classes_10_percent/test/ceviche\n",
      "250 in /content/101_food_classes_10_percent/test/croque_madame\n",
      "250 in /content/101_food_classes_10_percent/test/takoyaki\n",
      "250 in /content/101_food_classes_10_percent/test/fried_calamari\n",
      "250 in /content/101_food_classes_10_percent/test/pork_chop\n",
      "250 in /content/101_food_classes_10_percent/test/eggs_benedict\n",
      "250 in /content/101_food_classes_10_percent/test/tacos\n",
      "250 in /content/101_food_classes_10_percent/test/poutine\n",
      "250 in /content/101_food_classes_10_percent/test/lobster_roll_sandwich\n",
      "250 in /content/101_food_classes_10_percent/test/lasagna\n",
      "250 in /content/101_food_classes_10_percent/test/mussels\n",
      "250 in /content/101_food_classes_10_percent/test/chicken_wings\n",
      "250 in /content/101_food_classes_10_percent/test/frozen_yogurt\n",
      "250 in /content/101_food_classes_10_percent/test/donuts\n",
      "250 in /content/101_food_classes_10_percent/test/creme_brulee\n",
      "250 in /content/101_food_classes_10_percent/test/cup_cakes\n",
      "250 in /content/101_food_classes_10_percent/test/french_fries\n",
      "250 in /content/101_food_classes_10_percent/test/grilled_cheese_sandwich\n",
      "250 in /content/101_food_classes_10_percent/test/beet_salad\n",
      "250 in /content/101_food_classes_10_percent/test/beef_carpaccio\n",
      "250 in /content/101_food_classes_10_percent/test/guacamole\n",
      "250 in /content/101_food_classes_10_percent/test/bread_pudding\n",
      "250 in /content/101_food_classes_10_percent/test/caprese_salad\n",
      "250 in /content/101_food_classes_10_percent/test/ice_cream\n",
      "250 in /content/101_food_classes_10_percent/test/caesar_salad\n",
      "250 in /content/101_food_classes_10_percent/test/panna_cotta\n",
      "250 in /content/101_food_classes_10_percent/test/french_toast\n",
      "250 in /content/101_food_classes_10_percent/test/deviled_eggs\n",
      "250 in /content/101_food_classes_10_percent/test/beef_tartare\n",
      "250 in /content/101_food_classes_10_percent/test/miso_soup\n",
      "250 in /content/101_food_classes_10_percent/test/gnocchi\n",
      "250 in /content/101_food_classes_10_percent/test/baklava\n",
      "250 in /content/101_food_classes_10_percent/test/chocolate_cake\n",
      "250 in /content/101_food_classes_10_percent/test/sushi\n",
      "250 in /content/101_food_classes_10_percent/test/steak\n",
      "250 in /content/101_food_classes_10_percent/test/pancakes\n",
      "250 in /content/101_food_classes_10_percent/test/bibimbap\n",
      "250 in /content/101_food_classes_10_percent/test/pad_thai\n",
      "250 in /content/101_food_classes_10_percent/test/carrot_cake\n",
      "250 in /content/101_food_classes_10_percent/test/cheese_plate\n",
      "250 in /content/101_food_classes_10_percent/test/shrimp_and_grits\n"
     ]
    }
   ],
   "source": [
    "for path,folder,filename in os.walk(\"/content/101_food_classes_10_percent\"):\n",
    "  print(f\"{len(filename)} in {path}\")"
   ]
  },
  {
   "cell_type": "markdown",
   "metadata": {
    "id": "0MhCkHrLDSPY"
   },
   "source": [
    "## Image preprocessing"
   ]
  },
  {
   "cell_type": "code",
   "execution_count": 5,
   "metadata": {
    "id": "8BCWukYNCbQu"
   },
   "outputs": [],
   "source": [
    "# importing required libraries\n",
    "import tensorflow as tf\n",
    "from tensorflow.keras.preprocessing.image import ImageDataGenerator"
   ]
  },
  {
   "cell_type": "code",
   "execution_count": 6,
   "metadata": {
    "id": "55Aa0hiNCuGn"
   },
   "outputs": [],
   "source": [
    "# creating imagedatagenerator instance with scaling\n",
    "train_data_scale=ImageDataGenerator(rescale=1/255)\n",
    "test_data_scale=ImageDataGenerator(rescale=1/255)"
   ]
  },
  {
   "cell_type": "code",
   "execution_count": 7,
   "metadata": {
    "colab": {
     "base_uri": "https://localhost:8080/"
    },
    "id": "UDCF3MBkC-aR",
    "outputId": "e8ffbd02-7b87-41ce-d86a-294c528fae41"
   },
   "outputs": [
    {
     "name": "stdout",
     "output_type": "stream",
     "text": [
      "Found 7575 images belonging to 101 classes.\n",
      "Found 25250 images belonging to 101 classes.\n"
     ]
    }
   ],
   "source": [
    "#preprocessing image for model\n",
    "\n",
    "train_data=train_data_scale.flow_from_directory(\"/content/101_food_classes_10_percent/train\",\n",
    "                                                target_size=(224,224),\n",
    "                                                batch_size=32,\n",
    "                                                class_mode=\"categorical\")\n",
    "\n",
    "test_data=train_data_scale.flow_from_directory(\"/content/101_food_classes_10_percent/test\",\n",
    "                                                target_size=(224,224),\n",
    "                                                batch_size=32,\n",
    "                                                class_mode=\"categorical\")"
   ]
  },
  {
   "cell_type": "markdown",
   "metadata": {
    "id": "fiAI5-OGDPVQ"
   },
   "source": [
    "## Model Building"
   ]
  },
  {
   "cell_type": "code",
   "execution_count": 8,
   "metadata": {
    "colab": {
     "base_uri": "https://localhost:8080/"
    },
    "id": "GjbSUHdnDYWA",
    "outputId": "cc4bf351-de28-4e68-de0d-6b7ccc40a967"
   },
   "outputs": [
    {
     "name": "stdout",
     "output_type": "stream",
     "text": [
      "Downloading data from https://storage.googleapis.com/keras-applications/efficientnetb0_notop.h5\n",
      "16705208/16705208 [==============================] - 2s 0us/step\n"
     ]
    }
   ],
   "source": [
    "# Transfer learning\n",
    "base_model = tf.keras.applications.efficientnet.EfficientNetB0(include_top=False)\n",
    "base_model.trainable = False"
   ]
  },
  {
   "cell_type": "code",
   "execution_count": 9,
   "metadata": {
    "id": "GWxmk0eVEAwn"
   },
   "outputs": [],
   "source": [
    "inputs = tf.keras.layers.Input(shape=(224, 224, 3), name=\"input_layer\")\n",
    "base = base_model(inputs, training=False)\n",
    "pooled = tf.keras.layers.GlobalAveragePooling2D(name=\"global_average_pooling\")(base)\n",
    "outputs = tf.keras.layers.Dense(101, activation=\"softmax\", name=\"output_layer\")(pooled)\n",
    "model = tf.keras.Model(inputs, outputs)"
   ]
  },
  {
   "cell_type": "code",
   "execution_count": 10,
   "metadata": {
    "colab": {
     "base_uri": "https://localhost:8080/"
    },
    "id": "k2vYr0yqE0fS",
    "outputId": "7d4b2492-3d1f-449a-d268-3f0f5ecf4f0e"
   },
   "outputs": [
    {
     "name": "stdout",
     "output_type": "stream",
     "text": [
      "Model: \"model\"\n",
      "_________________________________________________________________\n",
      " Layer (type)                Output Shape              Param #   \n",
      "=================================================================\n",
      " input_layer (InputLayer)    [(None, 224, 224, 3)]     0         \n",
      "                                                                 \n",
      " efficientnetb0 (Functional)  (None, None, None, 1280)  4049571  \n",
      "                                                                 \n",
      " global_average_pooling (Glo  (None, 1280)             0         \n",
      " balAveragePooling2D)                                            \n",
      "                                                                 \n",
      " output_layer (Dense)        (None, 101)               129381    \n",
      "                                                                 \n",
      "=================================================================\n",
      "Total params: 4,178,952\n",
      "Trainable params: 129,381\n",
      "Non-trainable params: 4,049,571\n",
      "_________________________________________________________________\n"
     ]
    }
   ],
   "source": [
    "model.summary()"
   ]
  },
  {
   "cell_type": "code",
   "execution_count": 11,
   "metadata": {
    "id": "c_bRL0KUE4J_"
   },
   "outputs": [],
   "source": [
    "# Compile\n",
    "model.compile(loss=\"categorical_crossentropy\",\n",
    "              optimizer=tf.keras.optimizers.Adam(),\n",
    "              metrics=[\"accuracy\"])"
   ]
  },
  {
   "cell_type": "code",
   "execution_count": 12,
   "metadata": {
    "colab": {
     "base_uri": "https://localhost:8080/"
    },
    "id": "IWxvklXlFB19",
    "outputId": "4e4bea47-55fd-4bb3-8719-6847709e3d6c"
   },
   "outputs": [
    {
     "name": "stdout",
     "output_type": "stream",
     "text": [
      "Epoch 1/5\n",
      "237/237 [==============================] - 114s 412ms/step - loss: 4.7187 - accuracy: 0.0099 - val_loss: 4.7030 - val_accuracy: 0.0099\n",
      "Epoch 2/5\n",
      "237/237 [==============================] - 112s 472ms/step - loss: 4.7069 - accuracy: 0.0090 - val_loss: 4.6997 - val_accuracy: 0.0099\n",
      "Epoch 3/5\n",
      "237/237 [==============================] - 99s 421ms/step - loss: 4.7141 - accuracy: 0.0088 - val_loss: 4.6933 - val_accuracy: 0.0101\n",
      "Epoch 4/5\n",
      "237/237 [==============================] - 105s 445ms/step - loss: 4.7052 - accuracy: 0.0098 - val_loss: 4.7018 - val_accuracy: 0.0100\n",
      "Epoch 5/5\n",
      "237/237 [==============================] - 94s 396ms/step - loss: 4.7139 - accuracy: 0.0083 - val_loss: 4.6837 - val_accuracy: 0.0099\n"
     ]
    }
   ],
   "source": [
    "# Fit\n",
    "history = model.fit(train_data,\n",
    "                    epochs=5,\n",
    "                    validation_data=test_data)\n"
   ]
  },
  {
   "cell_type": "code",
   "execution_count": 13,
   "metadata": {
    "colab": {
     "base_uri": "https://localhost:8080/"
    },
    "id": "jD-zP_atFgcJ",
    "outputId": "98731090-597c-40c9-f074-038e15169c22"
   },
   "outputs": [
    {
     "name": "stdout",
     "output_type": "stream",
     "text": [
      "790/790 [==============================] - 77s 97ms/step - loss: 4.6837 - accuracy: 0.0099\n"
     ]
    },
    {
     "data": {
      "text/plain": [
       "[4.683703899383545, 0.00994059443473816]"
      ]
     },
     "execution_count": 13,
     "metadata": {},
     "output_type": "execute_result"
    }
   ],
   "source": [
    "# Evaluation\n",
    "model.evaluate(test_data)"
   ]
  },
  {
   "cell_type": "markdown",
   "metadata": {
    "id": "Y1TlScLWHTj-"
   },
   "source": [
    "## Fine Tuning"
   ]
  },
  {
   "cell_type": "code",
   "execution_count": 14,
   "metadata": {
    "id": "Gp7wRoJbHfo4"
   },
   "outputs": [],
   "source": [
    "# freezing all layers except last five layers\n",
    "base_model.trainable = True\n",
    "for layer in base_model.layers[:-5]:\n",
    "  layer.trainable = False"
   ]
  },
  {
   "cell_type": "code",
   "execution_count": 15,
   "metadata": {
    "colab": {
     "base_uri": "https://localhost:8080/"
    },
    "id": "V-zTAqi-IDYF",
    "outputId": "c16bb303-3c76-46ba-9f14-e2c9743dae5b"
   },
   "outputs": [
    {
     "name": "stdout",
     "output_type": "stream",
     "text": [
      "0 input_1 False\n",
      "1 rescaling False\n",
      "2 normalization False\n",
      "3 rescaling_1 False\n",
      "4 stem_conv_pad False\n",
      "5 stem_conv False\n",
      "6 stem_bn False\n",
      "7 stem_activation False\n",
      "8 block1a_dwconv False\n",
      "9 block1a_bn False\n",
      "10 block1a_activation False\n",
      "11 block1a_se_squeeze False\n",
      "12 block1a_se_reshape False\n",
      "13 block1a_se_reduce False\n",
      "14 block1a_se_expand False\n",
      "15 block1a_se_excite False\n",
      "16 block1a_project_conv False\n",
      "17 block1a_project_bn False\n",
      "18 block2a_expand_conv False\n",
      "19 block2a_expand_bn False\n",
      "20 block2a_expand_activation False\n",
      "21 block2a_dwconv_pad False\n",
      "22 block2a_dwconv False\n",
      "23 block2a_bn False\n",
      "24 block2a_activation False\n",
      "25 block2a_se_squeeze False\n",
      "26 block2a_se_reshape False\n",
      "27 block2a_se_reduce False\n",
      "28 block2a_se_expand False\n",
      "29 block2a_se_excite False\n",
      "30 block2a_project_conv False\n",
      "31 block2a_project_bn False\n",
      "32 block2b_expand_conv False\n",
      "33 block2b_expand_bn False\n",
      "34 block2b_expand_activation False\n",
      "35 block2b_dwconv False\n",
      "36 block2b_bn False\n",
      "37 block2b_activation False\n",
      "38 block2b_se_squeeze False\n",
      "39 block2b_se_reshape False\n",
      "40 block2b_se_reduce False\n",
      "41 block2b_se_expand False\n",
      "42 block2b_se_excite False\n",
      "43 block2b_project_conv False\n",
      "44 block2b_project_bn False\n",
      "45 block2b_drop False\n",
      "46 block2b_add False\n",
      "47 block3a_expand_conv False\n",
      "48 block3a_expand_bn False\n",
      "49 block3a_expand_activation False\n",
      "50 block3a_dwconv_pad False\n",
      "51 block3a_dwconv False\n",
      "52 block3a_bn False\n",
      "53 block3a_activation False\n",
      "54 block3a_se_squeeze False\n",
      "55 block3a_se_reshape False\n",
      "56 block3a_se_reduce False\n",
      "57 block3a_se_expand False\n",
      "58 block3a_se_excite False\n",
      "59 block3a_project_conv False\n",
      "60 block3a_project_bn False\n",
      "61 block3b_expand_conv False\n",
      "62 block3b_expand_bn False\n",
      "63 block3b_expand_activation False\n",
      "64 block3b_dwconv False\n",
      "65 block3b_bn False\n",
      "66 block3b_activation False\n",
      "67 block3b_se_squeeze False\n",
      "68 block3b_se_reshape False\n",
      "69 block3b_se_reduce False\n",
      "70 block3b_se_expand False\n",
      "71 block3b_se_excite False\n",
      "72 block3b_project_conv False\n",
      "73 block3b_project_bn False\n",
      "74 block3b_drop False\n",
      "75 block3b_add False\n",
      "76 block4a_expand_conv False\n",
      "77 block4a_expand_bn False\n",
      "78 block4a_expand_activation False\n",
      "79 block4a_dwconv_pad False\n",
      "80 block4a_dwconv False\n",
      "81 block4a_bn False\n",
      "82 block4a_activation False\n",
      "83 block4a_se_squeeze False\n",
      "84 block4a_se_reshape False\n",
      "85 block4a_se_reduce False\n",
      "86 block4a_se_expand False\n",
      "87 block4a_se_excite False\n",
      "88 block4a_project_conv False\n",
      "89 block4a_project_bn False\n",
      "90 block4b_expand_conv False\n",
      "91 block4b_expand_bn False\n",
      "92 block4b_expand_activation False\n",
      "93 block4b_dwconv False\n",
      "94 block4b_bn False\n",
      "95 block4b_activation False\n",
      "96 block4b_se_squeeze False\n",
      "97 block4b_se_reshape False\n",
      "98 block4b_se_reduce False\n",
      "99 block4b_se_expand False\n",
      "100 block4b_se_excite False\n",
      "101 block4b_project_conv False\n",
      "102 block4b_project_bn False\n",
      "103 block4b_drop False\n",
      "104 block4b_add False\n",
      "105 block4c_expand_conv False\n",
      "106 block4c_expand_bn False\n",
      "107 block4c_expand_activation False\n",
      "108 block4c_dwconv False\n",
      "109 block4c_bn False\n",
      "110 block4c_activation False\n",
      "111 block4c_se_squeeze False\n",
      "112 block4c_se_reshape False\n",
      "113 block4c_se_reduce False\n",
      "114 block4c_se_expand False\n",
      "115 block4c_se_excite False\n",
      "116 block4c_project_conv False\n",
      "117 block4c_project_bn False\n",
      "118 block4c_drop False\n",
      "119 block4c_add False\n",
      "120 block5a_expand_conv False\n",
      "121 block5a_expand_bn False\n",
      "122 block5a_expand_activation False\n",
      "123 block5a_dwconv False\n",
      "124 block5a_bn False\n",
      "125 block5a_activation False\n",
      "126 block5a_se_squeeze False\n",
      "127 block5a_se_reshape False\n",
      "128 block5a_se_reduce False\n",
      "129 block5a_se_expand False\n",
      "130 block5a_se_excite False\n",
      "131 block5a_project_conv False\n",
      "132 block5a_project_bn False\n",
      "133 block5b_expand_conv False\n",
      "134 block5b_expand_bn False\n",
      "135 block5b_expand_activation False\n",
      "136 block5b_dwconv False\n",
      "137 block5b_bn False\n",
      "138 block5b_activation False\n",
      "139 block5b_se_squeeze False\n",
      "140 block5b_se_reshape False\n",
      "141 block5b_se_reduce False\n",
      "142 block5b_se_expand False\n",
      "143 block5b_se_excite False\n",
      "144 block5b_project_conv False\n",
      "145 block5b_project_bn False\n",
      "146 block5b_drop False\n",
      "147 block5b_add False\n",
      "148 block5c_expand_conv False\n",
      "149 block5c_expand_bn False\n",
      "150 block5c_expand_activation False\n",
      "151 block5c_dwconv False\n",
      "152 block5c_bn False\n",
      "153 block5c_activation False\n",
      "154 block5c_se_squeeze False\n",
      "155 block5c_se_reshape False\n",
      "156 block5c_se_reduce False\n",
      "157 block5c_se_expand False\n",
      "158 block5c_se_excite False\n",
      "159 block5c_project_conv False\n",
      "160 block5c_project_bn False\n",
      "161 block5c_drop False\n",
      "162 block5c_add False\n",
      "163 block6a_expand_conv False\n",
      "164 block6a_expand_bn False\n",
      "165 block6a_expand_activation False\n",
      "166 block6a_dwconv_pad False\n",
      "167 block6a_dwconv False\n",
      "168 block6a_bn False\n",
      "169 block6a_activation False\n",
      "170 block6a_se_squeeze False\n",
      "171 block6a_se_reshape False\n",
      "172 block6a_se_reduce False\n",
      "173 block6a_se_expand False\n",
      "174 block6a_se_excite False\n",
      "175 block6a_project_conv False\n",
      "176 block6a_project_bn False\n",
      "177 block6b_expand_conv False\n",
      "178 block6b_expand_bn False\n",
      "179 block6b_expand_activation False\n",
      "180 block6b_dwconv False\n",
      "181 block6b_bn False\n",
      "182 block6b_activation False\n",
      "183 block6b_se_squeeze False\n",
      "184 block6b_se_reshape False\n",
      "185 block6b_se_reduce False\n",
      "186 block6b_se_expand False\n",
      "187 block6b_se_excite False\n",
      "188 block6b_project_conv False\n",
      "189 block6b_project_bn False\n",
      "190 block6b_drop False\n",
      "191 block6b_add False\n",
      "192 block6c_expand_conv False\n",
      "193 block6c_expand_bn False\n",
      "194 block6c_expand_activation False\n",
      "195 block6c_dwconv False\n",
      "196 block6c_bn False\n",
      "197 block6c_activation False\n",
      "198 block6c_se_squeeze False\n",
      "199 block6c_se_reshape False\n",
      "200 block6c_se_reduce False\n",
      "201 block6c_se_expand False\n",
      "202 block6c_se_excite False\n",
      "203 block6c_project_conv False\n",
      "204 block6c_project_bn False\n",
      "205 block6c_drop False\n",
      "206 block6c_add False\n",
      "207 block6d_expand_conv False\n",
      "208 block6d_expand_bn False\n",
      "209 block6d_expand_activation False\n",
      "210 block6d_dwconv False\n",
      "211 block6d_bn False\n",
      "212 block6d_activation False\n",
      "213 block6d_se_squeeze False\n",
      "214 block6d_se_reshape False\n",
      "215 block6d_se_reduce False\n",
      "216 block6d_se_expand False\n",
      "217 block6d_se_excite False\n",
      "218 block6d_project_conv False\n",
      "219 block6d_project_bn False\n",
      "220 block6d_drop False\n",
      "221 block6d_add False\n",
      "222 block7a_expand_conv False\n",
      "223 block7a_expand_bn False\n",
      "224 block7a_expand_activation False\n",
      "225 block7a_dwconv False\n",
      "226 block7a_bn False\n",
      "227 block7a_activation False\n",
      "228 block7a_se_squeeze False\n",
      "229 block7a_se_reshape False\n",
      "230 block7a_se_reduce False\n",
      "231 block7a_se_expand False\n",
      "232 block7a_se_excite False\n",
      "233 block7a_project_conv True\n",
      "234 block7a_project_bn True\n",
      "235 top_conv True\n",
      "236 top_bn True\n",
      "237 top_activation True\n"
     ]
    }
   ],
   "source": [
    "for layer_number, layer in enumerate(base_model.layers):\n",
    "  print(layer_number, layer.name, layer.trainable)"
   ]
  },
  {
   "cell_type": "code",
   "execution_count": 16,
   "metadata": {
    "colab": {
     "base_uri": "https://localhost:8080/"
    },
    "id": "3Nz1NRw_JM1E",
    "outputId": "ed446c31-4552-4f88-be24-ea6acc8a6c32"
   },
   "outputs": [
    {
     "name": "stdout",
     "output_type": "stream",
     "text": [
      "Epoch 1/5\n",
      "237/237 [==============================] - 95s 401ms/step - loss: 4.7034 - accuracy: 0.0091 - val_loss: 4.6858 - val_accuracy: 0.0099\n",
      "Epoch 2/5\n",
      "237/237 [==============================] - 95s 400ms/step - loss: 4.6991 - accuracy: 0.0084 - val_loss: 4.6867 - val_accuracy: 0.0099\n",
      "Epoch 3/5\n",
      "237/237 [==============================] - 96s 407ms/step - loss: 4.7051 - accuracy: 0.0090 - val_loss: 4.6956 - val_accuracy: 0.0116\n",
      "Epoch 4/5\n",
      "237/237 [==============================] - 95s 400ms/step - loss: 4.7036 - accuracy: 0.0098 - val_loss: 4.6836 - val_accuracy: 0.0099\n",
      "Epoch 5/5\n",
      "237/237 [==============================] - 97s 409ms/step - loss: 4.7014 - accuracy: 0.0121 - val_loss: 4.6888 - val_accuracy: 0.0099\n"
     ]
    }
   ],
   "source": [
    "history_1 = model.fit(train_data,\n",
    "                    epochs=5,\n",
    "                    validation_data=test_data)"
   ]
  },
  {
   "cell_type": "code",
   "execution_count": 17,
   "metadata": {
    "id": "xelt9EwGJkpA"
   },
   "outputs": [],
   "source": [
    "model_aug=tf.keras.models.Sequential([tf.keras.layers.RandomFlip(),\n",
    "                                     tf.keras.layers.RandomRotation((0.2,0.9))])"
   ]
  },
  {
   "cell_type": "code",
   "execution_count": 19,
   "metadata": {
    "id": "S_XO9b0tMWEv"
   },
   "outputs": [],
   "source": [
    "inputs = tf.keras.layers.Input(shape=(224, 224, 3), name=\"input_layer\")\n",
    "aug=model_aug(inputs)\n",
    "base = base_model(aug, training=False)\n",
    "pooled = tf.keras.layers.GlobalAveragePooling2D(name=\"global_average_pooling\")(base)\n",
    "outputs = tf.keras.layers.Dense(101, activation=\"softmax\", name=\"output_layer\")(pooled)\n",
    "model_1 = tf.keras.Model(inputs, outputs)"
   ]
  },
  {
   "cell_type": "code",
   "execution_count": 22,
   "metadata": {
    "id": "amOjXFCnMjJ8"
   },
   "outputs": [],
   "source": [
    "# Compile\n",
    "model_1.compile(loss=\"categorical_crossentropy\",\n",
    "              optimizer=tf.keras.optimizers.Adam(),\n",
    "              metrics=[\"accuracy\"])"
   ]
  },
  {
   "cell_type": "code",
   "execution_count": null,
   "metadata": {
    "colab": {
     "base_uri": "https://localhost:8080/"
    },
    "id": "_w6kC88xMyeJ",
    "outputId": "ddc8a759-7f8d-440a-fb01-7f527d8ae68c"
   },
   "outputs": [
    {
     "name": "stdout",
     "output_type": "stream",
     "text": [
      "Epoch 1/5\n",
      "237/237 [==============================] - 110s 425ms/step - loss: 4.6360 - accuracy: 0.0086 - val_loss: 4.6154 - val_accuracy: 0.0099\n",
      "Epoch 2/5\n",
      "237/237 [==============================] - ETA: 0s - loss: 4.6167 - accuracy: 0.0084"
     ]
    }
   ],
   "source": [
    "history_2 = model_1.fit(train_data,\n",
    "                    epochs=5,\n",
    "                    validation_data=test_data)"
   ]
  },
  {
   "cell_type": "code",
   "execution_count": null,
   "metadata": {
    "id": "vTdSt3PDMz5T"
   },
   "outputs": [],
   "source": []
  }
 ],
 "metadata": {
  "accelerator": "GPU",
  "colab": {
   "gpuType": "T4",
   "provenance": []
  },
  "kernelspec": {
   "display_name": "Python 3",
   "language": "python",
   "name": "python3"
  },
  "language_info": {
   "codemirror_mode": {
    "name": "ipython",
    "version": 3
   },
   "file_extension": ".py",
   "mimetype": "text/x-python",
   "name": "python",
   "nbconvert_exporter": "python",
   "pygments_lexer": "ipython3",
   "version": "3.8.8"
  }
 },
 "nbformat": 4,
 "nbformat_minor": 1
}
